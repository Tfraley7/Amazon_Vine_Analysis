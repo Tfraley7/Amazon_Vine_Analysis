{
  "cells": [
    {
      "cell_type": "code",
      "execution_count": 1,
      "metadata": {
        "id": "9atQU6HXHpum"
      },
      "outputs": [],
      "source": [
        "import os\n",
        "# Find the latest version of spark 3.2 from http://www.apache.org/dist/spark/ and enter as the spark version\n",
        "\n"
      ]
    },
    {
      "cell_type": "code",
      "execution_count": 2,
      "metadata": {
        "id": "J6g-uPRIHudm"
      },
      "outputs": [],
      "source": [
        "# spark_version = 'spark-3.2.3'\n",
        "spark_version = 'spark-3.2.3'\n",
        "os.environ['SPARK_VERSION']=spark_version"
      ]
    },
    {
      "cell_type": "code",
      "execution_count": 3,
      "metadata": {
        "colab": {
          "base_uri": "https://localhost:8080/"
        },
        "id": "V58rxea0HqSa",
        "outputId": "d64740ce-3cee-4b79-a5da-5bfcb20f8c0d"
      },
      "outputs": [
        {
          "name": "stdout",
          "output_type": "stream",
          "text": [
            "\r0% [Working]\r            \rHit:1 http://archive.ubuntu.com/ubuntu bionic InRelease\n",
            "\r0% [Waiting for headers] [Connected to cloud.r-project.org (52.85.151.54)] [Con\r                                                                               \rGet:2 http://archive.ubuntu.com/ubuntu bionic-updates InRelease [88.7 kB]\n",
            "\r                                                                               \rGet:3 http://security.ubuntu.com/ubuntu bionic-security InRelease [88.7 kB]\n",
            "\r                                                                               \rGet:4 https://cloud.r-project.org/bin/linux/ubuntu bionic-cran40/ InRelease [3,626 B]\n",
            "\r0% [2 InRelease 15.6 kB/88.7 kB 18%] [3 InRelease 25.8 kB/88.7 kB 29%] [Waiting\r0% [1 InRelease gpgv 242 kB] [2 InRelease 15.6 kB/88.7 kB 18%] [3 InRelease 25.\r0% [1 InRelease gpgv 242 kB] [2 InRelease 50.4 kB/88.7 kB 57%] [Waiting for hea\r0% [1 InRelease gpgv 242 kB] [Waiting for headers] [Waiting for headers] [Conne\r                                                                               \rGet:5 http://archive.ubuntu.com/ubuntu bionic-backports InRelease [83.3 kB]\n",
            "\r0% [1 InRelease gpgv 242 kB] [5 InRelease 9,842 B/83.3 kB 12%] [Waiting for hea\r0% [1 InRelease gpgv 242 kB] [Waiting for headers] [Connecting to ppa.launchpad\r                                                                               \rIgn:6 https://developer.download.nvidia.com/compute/machine-learning/repos/ubuntu1804/x86_64  InRelease\n",
            "\r                                                                               \r0% [1 InRelease gpgv 242 kB] [Waiting for headers] [Waiting for headers]\r                                                                        \rHit:7 https://developer.download.nvidia.com/compute/cuda/repos/ubuntu1804/x86_64  InRelease\n",
            "\r                                                                        \r0% [1 InRelease gpgv 242 kB] [Waiting for headers]\r                                                  \rHit:8 https://developer.download.nvidia.com/compute/machine-learning/repos/ubuntu1804/x86_64  Release\n",
            "Get:9 http://ppa.launchpad.net/c2d4u.team/c2d4u4.0+/ubuntu bionic InRelease [15.9 kB]\n",
            "Hit:10 http://ppa.launchpad.net/cran/libgit2/ubuntu bionic InRelease\n",
            "Hit:11 http://ppa.launchpad.net/deadsnakes/ppa/ubuntu bionic InRelease\n",
            "Hit:12 http://ppa.launchpad.net/graphics-drivers/ppa/ubuntu bionic InRelease\n",
            "Get:14 http://ppa.launchpad.net/c2d4u.team/c2d4u4.0+/ubuntu bionic/main Sources [2,235 kB]\n",
            "Get:15 http://ppa.launchpad.net/c2d4u.team/c2d4u4.0+/ubuntu bionic/main amd64 Packages [1,143 kB]\n",
            "Fetched 3,659 kB in 3s (1,066 kB/s)\n",
            "Reading package lists... Done\n"
          ]
        }
      ],
      "source": [
        "# Install Spark and Java\n",
        "!apt-get update\n",
        "!apt-get install openjdk-11-jdk-headless -qq > /dev/null\n",
        "!wget -q http://www.apache.org/dist/spark/$SPARK_VERSION/$SPARK_VERSION-bin-hadoop2.7.tgz\n",
        "!tar xf spark-3.2.3-bin-hadoop2.7.tgz\n",
        "!pip install -q findspark\n",
        "\n",
        "# Set Environment Variables\n",
        "import os\n",
        "os.environ[\"JAVA_HOME\"] = \"/usr/lib/jvm/java-11-openjdk-amd64\"\n",
        "os.environ[\"SPARK_HOME\"] = f\"/content/spark-3.2.3-bin-hadoop2.7\"\n",
        "\n",
        "# Start a SparkSession\n",
        "import findspark\n",
        "findspark.init()\n"
      ]
    },
    {
      "cell_type": "code",
      "execution_count": 4,
      "metadata": {
        "colab": {
          "base_uri": "https://localhost:8080/"
        },
        "id": "_xKwTpATHqSe",
        "outputId": "5d7a0f55-d3f4-4ea6-9123-6c3bd12cc0e0"
      },
      "outputs": [
        {
          "name": "stdout",
          "output_type": "stream",
          "text": [
            "--2022-12-29 18:18:22--  https://jdbc.postgresql.org/download/postgresql-42.2.16.jar\n",
            "Resolving jdbc.postgresql.org (jdbc.postgresql.org)... 72.32.157.228, 2001:4800:3e1:1::228\n",
            "Connecting to jdbc.postgresql.org (jdbc.postgresql.org)|72.32.157.228|:443... connected.\n",
            "HTTP request sent, awaiting response... 200 OK\n",
            "Length: 1002883 (979K) [application/java-archive]\n",
            "Saving to: ‘postgresql-42.2.16.jar’\n",
            "\n",
            "postgresql-42.2.16. 100%[===================>] 979.38K  5.37MB/s    in 0.2s    \n",
            "\n",
            "2022-12-29 18:18:23 (5.37 MB/s) - ‘postgresql-42.2.16.jar’ saved [1002883/1002883]\n",
            "\n"
          ]
        }
      ],
      "source": [
        "# Download the Postgres driver that will allow Spark to interact with Postgres.\n",
        "!wget https://jdbc.postgresql.org/download/postgresql-42.2.16.jar"
      ]
    },
    {
      "cell_type": "code",
      "execution_count": 5,
      "metadata": {
        "id": "MMqDAjVS0KN9"
      },
      "outputs": [],
      "source": [
        "from pyspark.sql import SparkSession\n",
        "spark = SparkSession.builder.appName(\"M17-Amazon-Challenge\").config(\"spark.driver.extraClassPath\",\"/content/postgresql-42.2.16.jar\").getOrCreate()"
      ]
    },
    {
      "cell_type": "markdown",
      "metadata": {
        "id": "cyBsySGuY-9V"
      },
      "source": [
        "### Load Amazon Data into Spark DataFrame"
      ]
    },
    {
      "cell_type": "code",
      "execution_count": 6,
      "metadata": {
        "colab": {
          "base_uri": "https://localhost:8080/"
        },
        "id": "CtCmBhQJY-9Z",
        "outputId": "c9ed4334-0369-430d-f4f5-75774a4c8fe0"
      },
      "outputs": [
        {
          "name": "stdout",
          "output_type": "stream",
          "text": [
            "+-----------+-----------+--------------+----------+--------------+--------------------+--------------------+-----------+-------------+-----------+----+-----------------+--------------------+--------------------+-----------+\n",
            "|marketplace|customer_id|     review_id|product_id|product_parent|       product_title|    product_category|star_rating|helpful_votes|total_votes|vine|verified_purchase|     review_headline|         review_body|review_date|\n",
            "+-----------+-----------+--------------+----------+--------------+--------------------+--------------------+-----------+-------------+-----------+----+-----------------+--------------------+--------------------+-----------+\n",
            "|         US|   12190288|R3FU16928EP5TC|B00AYB1482|     668895143|Enlightened: Seas...|Digital_Video_Dow...|          5|            0|          0|   N|                Y|I loved it and I ...|I loved it and I ...| 2015-08-31|\n",
            "|         US|   30549954|R1IZHHS1MH3AQ4|B00KQD28OM|     246219280|             Vicious|Digital_Video_Dow...|          5|            0|          0|   N|                Y|As always it seem...|As always it seem...| 2015-08-31|\n",
            "|         US|   52895410| R52R85WC6TIAH|B01489L5LQ|     534732318|         After Words|Digital_Video_Dow...|          4|           17|         18|   N|                Y|      Charming movie|This movie isn't ...| 2015-08-31|\n",
            "|         US|   27072354| R7HOOYTVIB0DS|B008LOVIIK|     239012694|Masterpiece: Insp...|Digital_Video_Dow...|          5|            0|          0|   N|                Y|          Five Stars|excellant this is...| 2015-08-31|\n",
            "|         US|   26939022|R1XQ2N5CDOZGNX|B0094LZMT0|     535858974|   On The Waterfront|Digital_Video_Dow...|          5|            0|          0|   N|                Y|Brilliant film fr...|Brilliant film fr...| 2015-08-31|\n",
            "|         US|    4772040|R1HCST57W334KN|B0112OSOQE|      38517795|Rick and Morty Se...|Digital_Video_Dow...|          5|            5|          6|   N|                Y|Best show on TV r...|If you don't like...| 2015-08-31|\n",
            "|         US|   12910040|R32BUTYQS1ZJBQ|B000NPE5SA|     373323715|      Africa Screams|Digital_Video_Dow...|          4|            1|          1|   N|                Y|Very funny. A typ...|Very funny.  A ty...| 2015-08-31|\n",
            "|         US|   38805573|  RH4SXPL4L9QU|B00XWV4QXG|     633842417| Entourage: Season 7|Digital_Video_Dow...|          3|            0|          0|   N|                Y|it was not as goo...|Strange as it is,...| 2015-08-31|\n",
            "|         US|   37100714|R37INWIQA5YW8N|B00X8UKOUK|     666093513|Catastrophe - Sea...|Digital_Video_Dow...|          2|            0|          0|   N|                Y|           Two Stars|Funny shows! We l...| 2015-08-31|\n",
            "|         US|   41234409|R18GSVAAS3N8GX|B00OOKXTFU|     801680808|The Worricker Tri...|Digital_Video_Dow...|          3|            0|          0|   N|                Y|        A tad Stuffy|Well made. Great ...| 2015-08-31|\n",
            "|         US|   24698954|R2QCG0ZZOHYUOX|B00URDJ600|     174981485|Mr. Selfridge, Se...|Digital_Video_Dow...|          5|            0|          0|   N|                Y|This show is awes...|This show is awes...| 2015-08-31|\n",
            "|         US|   11956809|R2B1OCYMUVMS5C|B009JUZ5I4|     654293980|  Five Branded Women|Digital_Video_Dow...|          5|            0|          0|   N|                Y|A good perspectiv...|A good perspectiv...| 2015-08-31|\n",
            "|         US|   11763902|R131ZJWHK0XXY0|B00PSLQYWE|     156264553|Downton Abbey Sea...|Digital_Video_Dow...|          4|            0|          0|   N|                Y|this saga gets be...|this saga gets be...| 2015-08-31|\n",
            "|         US|   46765633| RY6RIUNL03N8M|B00LI1COYA|     714145608|    Extant, Season 1|Digital_Video_Dow...|          5|            0|          0|   N|                Y|          Five Stars|         Great show.| 2015-08-31|\n",
            "|         US|   12411752|R2SWNCCEH2HPM5|B01347T9O8|     331499516|            Casanova|Digital_Video_Dow...|          1|            0|          0|   N|                Y|            One Star|Not my kind of mo...| 2015-08-31|\n",
            "|         US|   14717869|R127KV8E8ZC5L4|B00EC7VQX2|     627579257|Boardwalk Empire ...|Digital_Video_Dow...|          1|            0|          1|   N|                Y|I would have give...|I would have give...| 2015-08-31|\n",
            "|         US|    7438246|R3GH9B8WLQVY5T|B014P64276|     120489454|      Reunion Part 2|Digital_Video_Dow...|          5|            0|          0|   N|                Y|          Five Stars|         I loved it.| 2015-08-31|\n",
            "|         US|   51636125|R3AEFW1YB46FAU|B00X8UKOUK|     666093513|Catastrophe - Sea...|Digital_Video_Dow...|          3|            0|          0|   N|                Y|I want to like it...|I want to like it...| 2015-08-31|\n",
            "|         US|   47856888|R1ZHHD1GTHGMNK|B005U9RM0W|     728197314|      Grimm Season 1|Digital_Video_Dow...|          4|            1|          1|   N|                Y|If you're a sucke...|If you're a sucke...| 2015-08-31|\n",
            "|         US|    9210752|R2BCH4XK5CIK50|B00X8UKOUK|     666093513|Catastrophe - Sea...|Digital_Video_Dow...|          5|            0|          0|   N|                Y|         Great show.|Well done!!  Grea...| 2015-08-31|\n",
            "+-----------+-----------+--------------+----------+--------------+--------------------+--------------------+-----------+-------------+-----------+----+-----------------+--------------------+--------------------+-----------+\n",
            "only showing top 20 rows\n",
            "\n"
          ]
        }
      ],
      "source": [
        "from pyspark import SparkFiles\n",
        "url = \"https://s3.amazonaws.com/amazon-reviews-pds/tsv/amazon_reviews_us_Digital_Video_Download_v1_00.tsv.gz\"\n",
        "spark.sparkContext.addFile(url)\n",
        "df = spark.read.option(\"encoding\", \"UTF-8\").csv(SparkFiles.get(\"\"), sep=\"\\t\", header=True, inferSchema=True)\n",
        "df.show()"
      ]
    },
    {
      "cell_type": "markdown",
      "metadata": {
        "id": "2yUSe55VY-9t"
      },
      "source": [
        "### Create DataFrames to match tables"
      ]
    },
    {
      "cell_type": "code",
      "execution_count": 7,
      "metadata": {
        "colab": {
          "base_uri": "https://localhost:8080/"
        },
        "id": "C8REmY1aY-9u",
        "outputId": "118f81f9-746c-49ee-e17d-de6be77a7ba5"
      },
      "outputs": [
        {
          "name": "stdout",
          "output_type": "stream",
          "text": [
            "+-----------+-----------+--------------+----------+--------------+--------------------+--------------------+-----------+-------------+-----------+----+-----------------+--------------------+--------------------+-----------+\n",
            "|marketplace|customer_id|     review_id|product_id|product_parent|       product_title|    product_category|star_rating|helpful_votes|total_votes|vine|verified_purchase|     review_headline|         review_body|review_date|\n",
            "+-----------+-----------+--------------+----------+--------------+--------------------+--------------------+-----------+-------------+-----------+----+-----------------+--------------------+--------------------+-----------+\n",
            "|         US|   12190288|R3FU16928EP5TC|B00AYB1482|     668895143|Enlightened: Seas...|Digital_Video_Dow...|          5|            0|          0|   N|                Y|I loved it and I ...|I loved it and I ...| 2015-08-31|\n",
            "|         US|   30549954|R1IZHHS1MH3AQ4|B00KQD28OM|     246219280|             Vicious|Digital_Video_Dow...|          5|            0|          0|   N|                Y|As always it seem...|As always it seem...| 2015-08-31|\n",
            "|         US|   52895410| R52R85WC6TIAH|B01489L5LQ|     534732318|         After Words|Digital_Video_Dow...|          4|           17|         18|   N|                Y|      Charming movie|This movie isn't ...| 2015-08-31|\n",
            "|         US|   27072354| R7HOOYTVIB0DS|B008LOVIIK|     239012694|Masterpiece: Insp...|Digital_Video_Dow...|          5|            0|          0|   N|                Y|          Five Stars|excellant this is...| 2015-08-31|\n",
            "|         US|   26939022|R1XQ2N5CDOZGNX|B0094LZMT0|     535858974|   On The Waterfront|Digital_Video_Dow...|          5|            0|          0|   N|                Y|Brilliant film fr...|Brilliant film fr...| 2015-08-31|\n",
            "|         US|    4772040|R1HCST57W334KN|B0112OSOQE|      38517795|Rick and Morty Se...|Digital_Video_Dow...|          5|            5|          6|   N|                Y|Best show on TV r...|If you don't like...| 2015-08-31|\n",
            "|         US|   12910040|R32BUTYQS1ZJBQ|B000NPE5SA|     373323715|      Africa Screams|Digital_Video_Dow...|          4|            1|          1|   N|                Y|Very funny. A typ...|Very funny.  A ty...| 2015-08-31|\n",
            "|         US|   38805573|  RH4SXPL4L9QU|B00XWV4QXG|     633842417| Entourage: Season 7|Digital_Video_Dow...|          3|            0|          0|   N|                Y|it was not as goo...|Strange as it is,...| 2015-08-31|\n",
            "|         US|   37100714|R37INWIQA5YW8N|B00X8UKOUK|     666093513|Catastrophe - Sea...|Digital_Video_Dow...|          2|            0|          0|   N|                Y|           Two Stars|Funny shows! We l...| 2015-08-31|\n",
            "|         US|   41234409|R18GSVAAS3N8GX|B00OOKXTFU|     801680808|The Worricker Tri...|Digital_Video_Dow...|          3|            0|          0|   N|                Y|        A tad Stuffy|Well made. Great ...| 2015-08-31|\n",
            "|         US|   24698954|R2QCG0ZZOHYUOX|B00URDJ600|     174981485|Mr. Selfridge, Se...|Digital_Video_Dow...|          5|            0|          0|   N|                Y|This show is awes...|This show is awes...| 2015-08-31|\n",
            "|         US|   11956809|R2B1OCYMUVMS5C|B009JUZ5I4|     654293980|  Five Branded Women|Digital_Video_Dow...|          5|            0|          0|   N|                Y|A good perspectiv...|A good perspectiv...| 2015-08-31|\n",
            "|         US|   11763902|R131ZJWHK0XXY0|B00PSLQYWE|     156264553|Downton Abbey Sea...|Digital_Video_Dow...|          4|            0|          0|   N|                Y|this saga gets be...|this saga gets be...| 2015-08-31|\n",
            "|         US|   46765633| RY6RIUNL03N8M|B00LI1COYA|     714145608|    Extant, Season 1|Digital_Video_Dow...|          5|            0|          0|   N|                Y|          Five Stars|         Great show.| 2015-08-31|\n",
            "|         US|   12411752|R2SWNCCEH2HPM5|B01347T9O8|     331499516|            Casanova|Digital_Video_Dow...|          1|            0|          0|   N|                Y|            One Star|Not my kind of mo...| 2015-08-31|\n",
            "|         US|   14717869|R127KV8E8ZC5L4|B00EC7VQX2|     627579257|Boardwalk Empire ...|Digital_Video_Dow...|          1|            0|          1|   N|                Y|I would have give...|I would have give...| 2015-08-31|\n",
            "|         US|    7438246|R3GH9B8WLQVY5T|B014P64276|     120489454|      Reunion Part 2|Digital_Video_Dow...|          5|            0|          0|   N|                Y|          Five Stars|         I loved it.| 2015-08-31|\n",
            "|         US|   51636125|R3AEFW1YB46FAU|B00X8UKOUK|     666093513|Catastrophe - Sea...|Digital_Video_Dow...|          3|            0|          0|   N|                Y|I want to like it...|I want to like it...| 2015-08-31|\n",
            "|         US|   47856888|R1ZHHD1GTHGMNK|B005U9RM0W|     728197314|      Grimm Season 1|Digital_Video_Dow...|          4|            1|          1|   N|                Y|If you're a sucke...|If you're a sucke...| 2015-08-31|\n",
            "|         US|    9210752|R2BCH4XK5CIK50|B00X8UKOUK|     666093513|Catastrophe - Sea...|Digital_Video_Dow...|          5|            0|          0|   N|                Y|         Great show.|Well done!!  Grea...| 2015-08-31|\n",
            "+-----------+-----------+--------------+----------+--------------+--------------------+--------------------+-----------+-------------+-----------+----+-----------------+--------------------+--------------------+-----------+\n",
            "only showing top 20 rows\n",
            "\n"
          ]
        }
      ],
      "source": [
        "from pyspark.sql.functions import to_date\n",
        "# Read in the Review dataset as a DataFrame\n",
        "review_df = df.dropna()\n",
        "review_df.show()"
      ]
    },
    {
      "cell_type": "code",
      "execution_count": 8,
      "metadata": {
        "colab": {
          "base_uri": "https://localhost:8080/"
        },
        "id": "B0TESUDRY-90",
        "outputId": "7427e5b1-3e84-48fb-da73-5622653da1f0"
      },
      "outputs": [
        {
          "name": "stdout",
          "output_type": "stream",
          "text": [
            "+-----------+--------------+\n",
            "|customer_id|customer_count|\n",
            "+-----------+--------------+\n",
            "|   36427874|             1|\n",
            "|   17687096|            10|\n",
            "|   43798350|             4|\n",
            "|   49387236|             1|\n",
            "|   24321836|             2|\n",
            "|   42543176|             1|\n",
            "|   16298288|             4|\n",
            "|   12333316|             1|\n",
            "|   25790304|             1|\n",
            "|   13786319|             1|\n",
            "|   24796052|             1|\n",
            "|   53049917|             4|\n",
            "|   30478898|             1|\n",
            "|   20829560|             3|\n",
            "|   29699080|             3|\n",
            "|    8681732|             3|\n",
            "|   34220092|             2|\n",
            "|   13727857|            14|\n",
            "|   13480593|             3|\n",
            "|   49935991|             1|\n",
            "+-----------+--------------+\n",
            "only showing top 20 rows\n",
            "\n"
          ]
        }
      ],
      "source": [
        "# Create the customers_table DataFrame\n",
        "customers_df = review_df.groupby(\"customer_id\").agg({\"customer_id\":\"count\"}).withColumnRenamed(\"count(customer_id)\",\"customer_count\")\n",
        "#show top twenty rows\n",
        "customers_df.show()"
      ]
    },
    {
      "cell_type": "code",
      "execution_count": 9,
      "metadata": {
        "colab": {
          "base_uri": "https://localhost:8080/"
        },
        "id": "4FwXA6UvY-96",
        "outputId": "0f314f35-8300-4a35-e25e-c2b9b2b38f28"
      },
      "outputs": [
        {
          "name": "stdout",
          "output_type": "stream",
          "text": [
            "+----------+--------------------+\n",
            "|product_id|       product_title|\n",
            "+----------+--------------------+\n",
            "|B00YKA8PX0|        The Basement|\n",
            "|B004R10N6O|       Morning Glory|\n",
            "|B006MYGL8S|   Deadwood Season 1|\n",
            "|B008Y2X78S|Boardwalk Empire ...|\n",
            "|B003D8XCOC|Eating Out 2: Slo...|\n",
            "|B01489KEKY|Some Kind of Beau...|\n",
            "|B00E3WN0TY|   Banshee: Season 1|\n",
            "|B00DYQNC3E|Masterpiece: Eliz...|\n",
            "|B00QROEQ7G|             Amnesia|\n",
            "|B00QWUK1PQ|     Free the Nipple|\n",
            "|B00ZETHCTE|Louis C.K.: Oh My...|\n",
            "|B00MQOXI8Y|   The Expendables 3|\n",
            "|B003E4AXJC|Best of NOVA Volu...|\n",
            "|B00H6PG6J6|Lee Daniels' The ...|\n",
            "|B00NFDFCOI|  Words and Pictures|\n",
            "|B002WXLJ58|The Lord Of The R...|\n",
            "|B00KGJNQZQ|Robin Williams: W...|\n",
            "|B005LLSZNM|Sons Of Anarchy S...|\n",
            "|B0030JBBYW| The Point of Origin|\n",
            "|B0064J6RU8|Atlas Shrugged Pa...|\n",
            "+----------+--------------------+\n",
            "only showing top 20 rows\n",
            "\n"
          ]
        }
      ],
      "source": [
        "# Create the products_table DataFrame and drop duplicates. \n",
        "products_df = review_df.select([\"product_id\",\"product_title\"]).drop_duplicates()\n",
        "#show top twenty rows\n",
        "products_df.show()"
      ]
    },
    {
      "cell_type": "code",
      "execution_count": 11,
      "metadata": {
        "colab": {
          "base_uri": "https://localhost:8080/"
        },
        "id": "MkqyCuNQY-9-",
        "outputId": "a8dd4bf6-e986-4c36-875e-512badac560d"
      },
      "outputs": [
        {
          "name": "stdout",
          "output_type": "stream",
          "text": [
            "+--------------+-----------+----------+--------------+-----------+\n",
            "|     review_id|customer_id|product_id|product_parent|review_date|\n",
            "+--------------+-----------+----------+--------------+-----------+\n",
            "|R3FU16928EP5TC|   12190288|B00AYB1482|     668895143| 2015-08-31|\n",
            "|R1IZHHS1MH3AQ4|   30549954|B00KQD28OM|     246219280| 2015-08-31|\n",
            "| R52R85WC6TIAH|   52895410|B01489L5LQ|     534732318| 2015-08-31|\n",
            "| R7HOOYTVIB0DS|   27072354|B008LOVIIK|     239012694| 2015-08-31|\n",
            "|R1XQ2N5CDOZGNX|   26939022|B0094LZMT0|     535858974| 2015-08-31|\n",
            "|R1HCST57W334KN|    4772040|B0112OSOQE|      38517795| 2015-08-31|\n",
            "|R32BUTYQS1ZJBQ|   12910040|B000NPE5SA|     373323715| 2015-08-31|\n",
            "|  RH4SXPL4L9QU|   38805573|B00XWV4QXG|     633842417| 2015-08-31|\n",
            "|R37INWIQA5YW8N|   37100714|B00X8UKOUK|     666093513| 2015-08-31|\n",
            "|R18GSVAAS3N8GX|   41234409|B00OOKXTFU|     801680808| 2015-08-31|\n",
            "|R2QCG0ZZOHYUOX|   24698954|B00URDJ600|     174981485| 2015-08-31|\n",
            "|R2B1OCYMUVMS5C|   11956809|B009JUZ5I4|     654293980| 2015-08-31|\n",
            "|R131ZJWHK0XXY0|   11763902|B00PSLQYWE|     156264553| 2015-08-31|\n",
            "| RY6RIUNL03N8M|   46765633|B00LI1COYA|     714145608| 2015-08-31|\n",
            "|R2SWNCCEH2HPM5|   12411752|B01347T9O8|     331499516| 2015-08-31|\n",
            "|R127KV8E8ZC5L4|   14717869|B00EC7VQX2|     627579257| 2015-08-31|\n",
            "|R3GH9B8WLQVY5T|    7438246|B014P64276|     120489454| 2015-08-31|\n",
            "|R3AEFW1YB46FAU|   51636125|B00X8UKOUK|     666093513| 2015-08-31|\n",
            "|R1ZHHD1GTHGMNK|   47856888|B005U9RM0W|     728197314| 2015-08-31|\n",
            "|R2BCH4XK5CIK50|    9210752|B00X8UKOUK|     666093513| 2015-08-31|\n",
            "+--------------+-----------+----------+--------------+-----------+\n",
            "only showing top 20 rows\n",
            "\n"
          ]
        }
      ],
      "source": [
        "# Create the review_id_table DataFrame. \n",
        "# Convert the 'review_date' column to a date datatype with to_date(\"review_date\", 'yyyy-MM-dd').alias(\"review_date\")\n",
        "review_id_df = review_df.select([\"review_id\",\"customer_id\",\"product_id\",\"product_parent\",\"review_date\"]).withColumn(\"review_date\", to_date(\"review_date\", 'yyyy-MM-dd').alias(\"review_date\"))\n",
        "#show top twenty rows\n",
        "review_id_df.show()"
      ]
    },
    {
      "cell_type": "code",
      "execution_count": 12,
      "metadata": {
        "colab": {
          "base_uri": "https://localhost:8080/"
        },
        "id": "lzMmkdKmY--D",
        "outputId": "4dfe9c06-d2d4-4a90-afff-7aa5bf40b1ca"
      },
      "outputs": [
        {
          "name": "stdout",
          "output_type": "stream",
          "text": [
            "+--------------+-----------+-------------+-----------+----+-----------------+\n",
            "|     review_id|star_rating|helpful_votes|total_votes|vine|verified_purchase|\n",
            "+--------------+-----------+-------------+-----------+----+-----------------+\n",
            "|R3FU16928EP5TC|          5|            0|          0|   N|                Y|\n",
            "|R1IZHHS1MH3AQ4|          5|            0|          0|   N|                Y|\n",
            "| R52R85WC6TIAH|          4|           17|         18|   N|                Y|\n",
            "| R7HOOYTVIB0DS|          5|            0|          0|   N|                Y|\n",
            "|R1XQ2N5CDOZGNX|          5|            0|          0|   N|                Y|\n",
            "|R1HCST57W334KN|          5|            5|          6|   N|                Y|\n",
            "|R32BUTYQS1ZJBQ|          4|            1|          1|   N|                Y|\n",
            "|  RH4SXPL4L9QU|          3|            0|          0|   N|                Y|\n",
            "|R37INWIQA5YW8N|          2|            0|          0|   N|                Y|\n",
            "|R18GSVAAS3N8GX|          3|            0|          0|   N|                Y|\n",
            "|R2QCG0ZZOHYUOX|          5|            0|          0|   N|                Y|\n",
            "|R2B1OCYMUVMS5C|          5|            0|          0|   N|                Y|\n",
            "|R131ZJWHK0XXY0|          4|            0|          0|   N|                Y|\n",
            "| RY6RIUNL03N8M|          5|            0|          0|   N|                Y|\n",
            "|R2SWNCCEH2HPM5|          1|            0|          0|   N|                Y|\n",
            "|R127KV8E8ZC5L4|          1|            0|          1|   N|                Y|\n",
            "|R3GH9B8WLQVY5T|          5|            0|          0|   N|                Y|\n",
            "|R3AEFW1YB46FAU|          3|            0|          0|   N|                Y|\n",
            "|R1ZHHD1GTHGMNK|          4|            1|          1|   N|                Y|\n",
            "|R2BCH4XK5CIK50|          5|            0|          0|   N|                Y|\n",
            "+--------------+-----------+-------------+-----------+----+-----------------+\n",
            "only showing top 20 rows\n",
            "\n"
          ]
        }
      ],
      "source": [
        "# Create the vine_table. DataFrame\n",
        "vine_df = review_df.select([\"review_id\",\"star_rating\",\"helpful_votes\",\"total_votes\",\"vine\",\"verified_purchase\"])\n",
        "\n",
        "vine_df.show()"
      ]
    },
    {
      "cell_type": "markdown",
      "metadata": {
        "id": "jITZhLkmY--J"
      },
      "source": [
        "### Connect to the AWS RDS instance and write each DataFrame to its table. "
      ]
    },
    {
      "cell_type": "code",
      "execution_count": 18,
      "metadata": {
        "colab": {
          "base_uri": "https://localhost:8080/"
        },
        "id": "7jiUvs1aY--L",
        "outputId": "8f51fc92-5778-43ef-b6d9-3b3c1ed81c20"
      },
      "outputs": [
        {
          "name": "stdout",
          "output_type": "stream",
          "text": [
            "Enter database password··········\n"
          ]
        }
      ],
      "source": [
        "# Store environmental variable\n",
        "from getpass import getpass\n",
        "password = getpass('Enter database password')\n",
        "# Configure settings for RDS\n",
        "mode = \"append\"\n",
        "jdbc_url=\"jdbc:postgresql://digitalvideodb.cjfsykz40lex.us-east-1.rds.amazonaws.com:5432/\"\n",
        "config = {\"user\":\"postgres\", \n",
        "          \"password\": password, \n",
        "          \"driver\":\"org.postgresql.Driver\"}"
      ]
    },
    {
      "cell_type": "code",
      "execution_count": 19,
      "metadata": {
        "id": "T2zgZ-aKY--Q"
      },
      "outputs": [],
      "source": [
        "# Write review_id_df to table in RDS\n",
        "review_id_df.write.jdbc(url=jdbc_url, table='review_id_table', mode=mode, properties=config)"
      ]
    },
    {
      "cell_type": "code",
      "execution_count": 20,
      "metadata": {
        "id": "1m3yzn-LY--U"
      },
      "outputs": [],
      "source": [
        "# Write products_df to table in RDS\n",
        "# about 3 min\n",
        "products_df.write.jdbc(url=jdbc_url, table='products_table', mode=mode, properties=config)"
      ]
    },
    {
      "cell_type": "code",
      "execution_count": 21,
      "metadata": {
        "id": "KbXri15fY--Z"
      },
      "outputs": [],
      "source": [
        "# Write customers_df to table in RDS\n",
        "# 5 min 14 s\n",
        "customers_df.write.jdbc(url=jdbc_url, table='customers_table', mode=mode, properties=config)"
      ]
    },
    {
      "cell_type": "code",
      "execution_count": 22,
      "metadata": {
        "id": "XdQknSHLY--e"
      },
      "outputs": [],
      "source": [
        "# Write vine_df to table in RDS\n",
        "# 11 minutes\n",
        "vine_df.write.jdbc(url=jdbc_url, table='vine_table', mode=mode, properties=config)"
      ]
    },
    {
      "cell_type": "code",
      "execution_count": 25,
      "metadata": {
        "colab": {
          "base_uri": "https://localhost:8080/"
        },
        "id": "Exuo6ebUsCqW",
        "outputId": "4592a080-a33e-467f-8072-ee580189470c"
      },
      "outputs": [
        {
          "name": "stdout",
          "output_type": "stream",
          "text": [
            "+--------------+-----------+-------------+-----------+----+-----------------+\n",
            "|     review_id|star_rating|helpful_votes|total_votes|vine|verified_purchase|\n",
            "+--------------+-----------+-------------+-----------+----+-----------------+\n",
            "|R2I167RDKRWB5X|          1|         3248|       3974|   N|                Y|\n",
            "|R1IGU4Z8JVEUVS|          5|         1484|       1638|   N|                N|\n",
            "|R3D37ASD654872|          5|         1498|       1568|   N|                N|\n",
            "|R3A65N9EY9K7AB|          5|         1280|       1412|   N|                Y|\n",
            "|R2Z0G59RK0LYAV|          5|         1338|       1394|   N|                Y|\n",
            "| RJ5H1YIV6IKFR|          1|          889|       1259|   N|                Y|\n",
            "| R8E1XQI5SO12T|          5|          794|       1200|   N|                N|\n",
            "|R3KKH2UILRM66B|          3|         1025|       1127|   N|                N|\n",
            "|R1PYS6H474P68P|          1|          790|       1117|   N|                N|\n",
            "|R1IFBGNE1ROQAP|          5|          901|       1026|   N|                N|\n",
            "|R2E1WU7VRA9RC6|          1|          707|        954|   N|                N|\n",
            "|R2RFKL848JS4GX|          3|          692|        895|   N|                N|\n",
            "|R3VIEIML8E4GSZ|          5|          782|        852|   N|                Y|\n",
            "| RJY1VW6KJKX8Z|          3|          725|        850|   N|                Y|\n",
            "|R18MUUNHVHRH0M|          5|          749|        844|   N|                N|\n",
            "|R1SCV33C4IFR9Z|          5|          749|        814|   N|                Y|\n",
            "| R8QYKECCMUSLY|          5|          723|        793|   N|                N|\n",
            "| RNDLFNYVSEX3C|          1|          636|        760|   N|                Y|\n",
            "|R3H1QHGWCFX1T2|          5|          711|        757|   N|                N|\n",
            "|R36RIWF12C22HC|          1|          680|        722|   N|                N|\n",
            "+--------------+-----------+-------------+-----------+----+-----------------+\n",
            "only showing top 20 rows\n",
            "\n"
          ]
        }
      ],
      "source": [
        "#Filter the data and create a new DataFrame or table to retrieve all the rows where the total_votes count is equal to or greater than 20\n",
        "# to pick reviews that are more likely to be helpful and to avoid having division by zero errors later on.\n",
        "total_votes_df = vine_df.filter(\"total_votes>=20\")\n",
        "total_votes_df.orderBy(\"total_votes\", ascending=False).show()"
      ]
    },
    {
      "cell_type": "code",
      "execution_count": 26,
      "metadata": {
        "colab": {
          "base_uri": "https://localhost:8080/"
        },
        "id": "dfvyT34zWVYA",
        "outputId": "5ec49fa6-0840-43f6-d27b-78100603271f"
      },
      "outputs": [
        {
          "name": "stdout",
          "output_type": "stream",
          "text": [
            "+--------------+-----------+-------------+-----------+----+-----------------+\n",
            "|     review_id|star_rating|helpful_votes|total_votes|vine|verified_purchase|\n",
            "+--------------+-----------+-------------+-----------+----+-----------------+\n",
            "| RZM83AGJAUZMA|          1|           32|         41|   N|                Y|\n",
            "|R12MYB9QM2YN8B|          1|           19|         23|   N|                N|\n",
            "| RGCY6WG37F810|          4|           24|         27|   N|                N|\n",
            "|R2UH0VN09DDQLA|          3|           23|         30|   N|                N|\n",
            "|R1E4W9ROP10WT3|          5|           19|         22|   N|                N|\n",
            "| RF2BLXZTUOL0M|          5|           23|         27|   N|                N|\n",
            "| REMDS9V4J58OR|          4|           25|         29|   N|                Y|\n",
            "|R34CAWTWR5O2VN|          1|           18|         20|   N|                Y|\n",
            "|R2ISFKK57JF02V|          5|           25|         26|   N|                Y|\n",
            "|R3D8LNOI6ZPOFY|          5|           68|         72|   N|                Y|\n",
            "| RVR6HYB370XXD|          4|          110|        112|   N|                Y|\n",
            "| R9DSUA5QATKSB|          4|           18|         21|   N|                Y|\n",
            "|R1R6D5SQ0MJ4SD|          1|           24|         30|   N|                N|\n",
            "| RYWE9GFXNQMTM|          1|           30|         39|   N|                Y|\n",
            "| RF201POYVHGTC|          1|           18|         36|   N|                Y|\n",
            "|R1XWUCJLDCJHGL|          1|          120|        172|   N|                Y|\n",
            "|R1CO66W48MFQU3|          5|           39|         39|   N|                N|\n",
            "|R20AC6JU04WVCD|          4|           20|         28|   N|                N|\n",
            "|R2PH5ZW3C5IVIW|          2|           23|         32|   N|                Y|\n",
            "| RC9EIG7IT5X9O|          5|           63|         67|   N|                Y|\n",
            "+--------------+-----------+-------------+-----------+----+-----------------+\n",
            "only showing top 20 rows\n",
            "\n"
          ]
        }
      ],
      "source": [
        "# Filter the total_votes_df and create a new DF to retrieve all the rows where the number of helpful votes\n",
        "# Divided by total votes is equal to or grater than 50%\n",
        "helpful_votes_df = total_votes_df.filter(\"helpful_votes/total_votes>=0.5\")\n",
        "helpful_votes_df.show()"
      ]
    },
    {
      "cell_type": "code",
      "execution_count": 32,
      "metadata": {
        "colab": {
          "base_uri": "https://localhost:8080/"
        },
        "id": "AnRu6NfjX81S",
        "outputId": "5e151497-4026-4190-8eb5-5bb06d235eea"
      },
      "outputs": [
        {
          "name": "stdout",
          "output_type": "stream",
          "text": [
            "+---------+-----------+-------------+-----------+----+-----------------+\n",
            "|review_id|star_rating|helpful_votes|total_votes|vine|verified_purchase|\n",
            "+---------+-----------+-------------+-----------+----+-----------------+\n",
            "+---------+-----------+-------------+-----------+----+-----------------+\n",
            "\n"
          ]
        }
      ],
      "source": [
        "#Filter the helpful_votes_df and create a new DataFrame or table that retrieves all the rows where\n",
        "# a review was written as part of the Vine program (paid), vine == 'Y'\n",
        "paid_df = helpful_votes_df.filter(\"vine == 'Y'\")\n",
        "paid_df.show(10)"
      ]
    },
    {
      "cell_type": "code",
      "execution_count": 33,
      "metadata": {
        "colab": {
          "base_uri": "https://localhost:8080/"
        },
        "id": "W6uow02wY6Ku",
        "outputId": "b965d1bd-4916-49a2-d11a-98468c3cd7d7"
      },
      "outputs": [
        {
          "name": "stdout",
          "output_type": "stream",
          "text": [
            "+--------------+-----------+-------------+-----------+----+-----------------+\n",
            "|     review_id|star_rating|helpful_votes|total_votes|vine|verified_purchase|\n",
            "+--------------+-----------+-------------+-----------+----+-----------------+\n",
            "| RZM83AGJAUZMA|          1|           32|         41|   N|                Y|\n",
            "|R12MYB9QM2YN8B|          1|           19|         23|   N|                N|\n",
            "| RGCY6WG37F810|          4|           24|         27|   N|                N|\n",
            "|R2UH0VN09DDQLA|          3|           23|         30|   N|                N|\n",
            "|R1E4W9ROP10WT3|          5|           19|         22|   N|                N|\n",
            "| RF2BLXZTUOL0M|          5|           23|         27|   N|                N|\n",
            "| REMDS9V4J58OR|          4|           25|         29|   N|                Y|\n",
            "|R34CAWTWR5O2VN|          1|           18|         20|   N|                Y|\n",
            "|R2ISFKK57JF02V|          5|           25|         26|   N|                Y|\n",
            "|R3D8LNOI6ZPOFY|          5|           68|         72|   N|                Y|\n",
            "| RVR6HYB370XXD|          4|          110|        112|   N|                Y|\n",
            "| R9DSUA5QATKSB|          4|           18|         21|   N|                Y|\n",
            "|R1R6D5SQ0MJ4SD|          1|           24|         30|   N|                N|\n",
            "| RYWE9GFXNQMTM|          1|           30|         39|   N|                Y|\n",
            "| RF201POYVHGTC|          1|           18|         36|   N|                Y|\n",
            "|R1XWUCJLDCJHGL|          1|          120|        172|   N|                Y|\n",
            "|R1CO66W48MFQU3|          5|           39|         39|   N|                N|\n",
            "|R20AC6JU04WVCD|          4|           20|         28|   N|                N|\n",
            "|R2PH5ZW3C5IVIW|          2|           23|         32|   N|                Y|\n",
            "| RC9EIG7IT5X9O|          5|           63|         67|   N|                Y|\n",
            "+--------------+-----------+-------------+-----------+----+-----------------+\n",
            "only showing top 20 rows\n",
            "\n"
          ]
        }
      ],
      "source": [
        "# filter the helpful_votes_df and create a new DataFrame or table that retrieves all the rows where\n",
        "# a review was written as part of the Vine program (unpaid), vine == 'N'\n",
        "\n",
        "unpaid_df = helpful_votes_df.filter(\"vine == 'N' \")\n",
        "unpaid_df.show()"
      ]
    },
    {
      "cell_type": "code",
      "execution_count": 37,
      "metadata": {
        "colab": {
          "base_uri": "https://localhost:8080/"
        },
        "id": "ZhfSgmzJaqWv",
        "outputId": "2032d626-55ef-43a2-f99d-37c64b7a5708"
      },
      "outputs": [
        {
          "name": "stdout",
          "output_type": "stream",
          "text": [
            "The total number of reviews for unpaid vines were: 11362\n",
            "The total number of 5 star reviews for unpaid vines were: 4670\n",
            "The total percent of 5 star reviews for unpaid vines were: 41.10191867628939\n"
          ]
        }
      ],
      "source": [
        "# Determine the total number of reviews, the amount of 5-star reviews, and the percentage of 5-star reviews for the unpaid DF\n",
        "paid_total_reviews = paid_df.count()\n",
        "paid_five_star_reviews = paid_df.filter(\"star_rating==5\").count()\n",
        "#paid_five_star_percentage = paid_five_star_reviews/paid_total_reviews*100\n",
        "unpaid_df = helpful_votes_df.filter(\"vine=='N'\")\n",
        "unpaid_total_reviews = unpaid_df.count()\n",
        "unpaid_five_star_reviews = unpaid_df.filter(\"star_rating==5\").count()\n",
        "unpaid_five_star_percentage = unpaid_five_star_reviews/unpaid_total_reviews*100\n",
        "print(f\"Total number of unpaid reviews: {unpaid_total_reviews}\")\n",
        "print(f\"Total number of unpaid 5-star reviews: {unpaid_five_star_reviews}\")\n",
        "print(f\"Percentage of unpaid 5-star reviews: {unpaid_five_star_percentage}\")\n",
        "print(f\"Total number of paid reviews: {paid_total_reviews}\")\n",
        "print(f\"Total number of paid 5-star reviews: {paid_five_star_reviews}\")\n",
        "#print(f\"Percentage of paid 5-star reviews: {paid_five_star_percentage}\")"
      ]
    },
    {
      "cell_type": "code",
      "execution_count": null,
      "metadata": {
        "id": "RLHqvh42cm_m"
      },
      "outputs": [],
      "source": []
    }
  ],
  "metadata": {
    "colab": {
      "provenance": []
    },
    "kernelspec": {
      "display_name": "Python 3 (ipykernel)",
      "language": "python",
      "name": "python3"
    },
    "language_info": {
      "codemirror_mode": {
        "name": "ipython",
        "version": 3
      },
      "file_extension": ".py",
      "mimetype": "text/x-python",
      "name": "python",
      "nbconvert_exporter": "python",
      "pygments_lexer": "ipython3",
      "version": "3.8.13"
    },
    "nteract": {
      "version": "0.12.3"
    }
  },
  "nbformat": 4,
  "nbformat_minor": 0
}
